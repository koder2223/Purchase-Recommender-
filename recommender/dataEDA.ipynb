{
 "cells": [
  {
   "cell_type": "code",
   "execution_count": 2,
   "metadata": {},
   "outputs": [],
   "source": [
    "import pandas as pd \n",
    "import matplotlib.pyplot as plt\n",
    "import numpy as np "
   ]
  },
  {
   "cell_type": "code",
   "execution_count": 3,
   "metadata": {},
   "outputs": [],
   "source": [
    "df_main = pd.read_csv('Dataset/main.csv')\n",
    "df_cat = pd.read_csv('Dataset/categories.csv')\n",
    "df_sim = pd.read_csv('Dataset/similars.csv')\n",
    "df_rev = pd.read_csv('Dataset/reviews.csv')"
   ]
  },
  {
   "cell_type": "code",
   "execution_count": 4,
   "metadata": {},
   "outputs": [
    {
     "data": {
      "text/html": [
       "<div>\n",
       "<style scoped>\n",
       "    .dataframe tbody tr th:only-of-type {\n",
       "        vertical-align: middle;\n",
       "    }\n",
       "\n",
       "    .dataframe tbody tr th {\n",
       "        vertical-align: top;\n",
       "    }\n",
       "\n",
       "    .dataframe thead th {\n",
       "        text-align: right;\n",
       "    }\n",
       "</style>\n",
       "<table border=\"1\" class=\"dataframe\">\n",
       "  <thead>\n",
       "    <tr style=\"text-align: right;\">\n",
       "      <th></th>\n",
       "      <th>Id</th>\n",
       "      <th>ASIN</th>\n",
       "      <th>Title</th>\n",
       "      <th>Group</th>\n",
       "      <th>Salesrank</th>\n",
       "      <th>NbrOfSimilar</th>\n",
       "      <th>NbrOfCategories</th>\n",
       "      <th>TotalReviews</th>\n",
       "      <th>Downloaded</th>\n",
       "      <th>AvgRating</th>\n",
       "    </tr>\n",
       "  </thead>\n",
       "  <tbody>\n",
       "    <tr>\n",
       "      <th>0</th>\n",
       "      <td>1</td>\n",
       "      <td>0827229534</td>\n",
       "      <td>Patterns of Preaching: A Sermon Sampler</td>\n",
       "      <td>Book</td>\n",
       "      <td>396585</td>\n",
       "      <td>5</td>\n",
       "      <td>2</td>\n",
       "      <td>2</td>\n",
       "      <td>2</td>\n",
       "      <td>5.0</td>\n",
       "    </tr>\n",
       "    <tr>\n",
       "      <th>1</th>\n",
       "      <td>2</td>\n",
       "      <td>0738700797</td>\n",
       "      <td>Candlemas: Feast of Flames</td>\n",
       "      <td>Book</td>\n",
       "      <td>168596</td>\n",
       "      <td>5</td>\n",
       "      <td>2</td>\n",
       "      <td>12</td>\n",
       "      <td>12</td>\n",
       "      <td>4.5</td>\n",
       "    </tr>\n",
       "    <tr>\n",
       "      <th>2</th>\n",
       "      <td>3</td>\n",
       "      <td>0486287785</td>\n",
       "      <td>World War II Allied Fighter Planes Trading Cards</td>\n",
       "      <td>Book</td>\n",
       "      <td>1270652</td>\n",
       "      <td>0</td>\n",
       "      <td>1</td>\n",
       "      <td>1</td>\n",
       "      <td>1</td>\n",
       "      <td>5.0</td>\n",
       "    </tr>\n",
       "    <tr>\n",
       "      <th>3</th>\n",
       "      <td>4</td>\n",
       "      <td>0842328327</td>\n",
       "      <td>Life Application Bible Commentary: 1 and 2 Tim...</td>\n",
       "      <td>Book</td>\n",
       "      <td>631289</td>\n",
       "      <td>5</td>\n",
       "      <td>5</td>\n",
       "      <td>1</td>\n",
       "      <td>1</td>\n",
       "      <td>4.0</td>\n",
       "    </tr>\n",
       "    <tr>\n",
       "      <th>4</th>\n",
       "      <td>5</td>\n",
       "      <td>1577943082</td>\n",
       "      <td>Prayers That Avail Much for Business: Executive</td>\n",
       "      <td>Book</td>\n",
       "      <td>455160</td>\n",
       "      <td>5</td>\n",
       "      <td>2</td>\n",
       "      <td>0</td>\n",
       "      <td>0</td>\n",
       "      <td>0.0</td>\n",
       "    </tr>\n",
       "  </tbody>\n",
       "</table>\n",
       "</div>"
      ],
      "text/plain": [
       "   Id        ASIN                                              Title Group  \\\n",
       "0   1  0827229534            Patterns of Preaching: A Sermon Sampler  Book   \n",
       "1   2  0738700797                         Candlemas: Feast of Flames  Book   \n",
       "2   3  0486287785   World War II Allied Fighter Planes Trading Cards  Book   \n",
       "3   4  0842328327  Life Application Bible Commentary: 1 and 2 Tim...  Book   \n",
       "4   5  1577943082    Prayers That Avail Much for Business: Executive  Book   \n",
       "\n",
       "   Salesrank  NbrOfSimilar  NbrOfCategories  TotalReviews  Downloaded  \\\n",
       "0     396585             5                2             2           2   \n",
       "1     168596             5                2            12          12   \n",
       "2    1270652             0                1             1           1   \n",
       "3     631289             5                5             1           1   \n",
       "4     455160             5                2             0           0   \n",
       "\n",
       "   AvgRating  \n",
       "0        5.0  \n",
       "1        4.5  \n",
       "2        5.0  \n",
       "3        4.0  \n",
       "4        0.0  "
      ]
     },
     "execution_count": 4,
     "metadata": {},
     "output_type": "execute_result"
    }
   ],
   "source": [
    "df_main.head(5)"
   ]
  },
  {
   "cell_type": "code",
   "execution_count": 5,
   "metadata": {},
   "outputs": [
    {
     "data": {
      "text/plain": [
       "Id                   int64\n",
       "ASIN                object\n",
       "Title               object\n",
       "Group               object\n",
       "Salesrank            int64\n",
       "NbrOfSimilar         int64\n",
       "NbrOfCategories      int64\n",
       "TotalReviews         int64\n",
       "Downloaded           int64\n",
       "AvgRating          float64\n",
       "dtype: object"
      ]
     },
     "execution_count": 5,
     "metadata": {},
     "output_type": "execute_result"
    }
   ],
   "source": [
    "df_main.dtypes"
   ]
  },
  {
   "cell_type": "markdown",
   "metadata": {},
   "source": [
    "#### Product Group Info"
   ]
  },
  {
   "cell_type": "code",
   "execution_count": 6,
   "metadata": {},
   "outputs": [
    {
     "data": {
      "text/plain": [
       "Group\n",
       "Baby Product         1\n",
       "Book            393561\n",
       "CE                   4\n",
       "DVD              19828\n",
       "Music           103144\n",
       "Software             5\n",
       "Sports               1\n",
       "Toy                  8\n",
       "Video            26131\n",
       "Video Games          1\n",
       "Name: Id, dtype: int64"
      ]
     },
     "execution_count": 6,
     "metadata": {},
     "output_type": "execute_result"
    }
   ],
   "source": [
    "df_main.groupby(\"Group\")['Id'].count()"
   ]
  },
  {
   "cell_type": "markdown",
   "metadata": {},
   "source": [
    "#### GraphViz of number of similar items of each product"
   ]
  },
  {
   "cell_type": "code",
   "execution_count": 8,
   "metadata": {},
   "outputs": [
    {
     "data": {
      "image/png": "[encoded data removed]",
      "text/plain": [
       "<Figure size 640x480 with 1 Axes>"
      ]
     },
     "metadata": {},
     "output_type": "display_data"
    },
    {
     "data": {
      "text/plain": [
       "<Figure size 640x480 with 0 Axes>"
      ]
     },
     "metadata": {},
     "output_type": "display_data"
    }
   ],
   "source": [
    "df_main.NbrOfSimilar.value_counts().plot(kind=\"bar\")\n",
    "plt.show()\n",
    "plt.savefig(\"Viz/SimilarItemsPlot.png\")"
   ]
  },
  {
   "cell_type": "markdown",
   "metadata": {},
   "source": [
    "#### GraphViz of number of Cateogries"
   ]
  },
  {
   "cell_type": "code",
   "execution_count": 9,
   "metadata": {},
   "outputs": [
    {
     "data": {
      "image/png": "[encoded data removed]",
      "text/plain": [
       "<Figure size 640x480 with 1 Axes>"
      ]
     },
     "metadata": {},
     "output_type": "display_data"
    }
   ],
   "source": [
    "df_main[\"NbrOfCategories\"].hist(bins=120)\n",
    "plt.show()"
   ]
  },
  {
   "cell_type": "code",
   "execution_count": 10,
   "metadata": {},
   "outputs": [
    {
     "data": {
      "text/html": [
       "<div>\n",
       "<style scoped>\n",
       "    .dataframe tbody tr th:only-of-type {\n",
       "        vertical-align: middle;\n",
       "    }\n",
       "\n",
       "    .dataframe tbody tr th {\n",
       "        vertical-align: top;\n",
       "    }\n",
       "\n",
       "    .dataframe thead th {\n",
       "        text-align: right;\n",
       "    }\n",
       "</style>\n",
       "<table border=\"1\" class=\"dataframe\">\n",
       "  <thead>\n",
       "    <tr style=\"text-align: right;\">\n",
       "      <th></th>\n",
       "      <th>Id</th>\n",
       "      <th>Salesrank</th>\n",
       "      <th>NbrOfSimilar</th>\n",
       "      <th>NbrOfCategories</th>\n",
       "      <th>TotalReviews</th>\n",
       "      <th>Downloaded</th>\n",
       "      <th>AvgRating</th>\n",
       "    </tr>\n",
       "  </thead>\n",
       "  <tbody>\n",
       "    <tr>\n",
       "      <th>count</th>\n",
       "      <td>548551.000000</td>\n",
       "      <td>5.485510e+05</td>\n",
       "      <td>548551.000000</td>\n",
       "      <td>548551.000000</td>\n",
       "      <td>548551.000000</td>\n",
       "      <td>548551.000000</td>\n",
       "      <td>542684.000000</td>\n",
       "    </tr>\n",
       "    <tr>\n",
       "      <th>mean</th>\n",
       "      <td>274276.000000</td>\n",
       "      <td>4.840907e+05</td>\n",
       "      <td>3.260818</td>\n",
       "      <td>4.575143</td>\n",
       "      <td>14.186448</td>\n",
       "      <td>13.842367</td>\n",
       "      <td>3.209534</td>\n",
       "    </tr>\n",
       "    <tr>\n",
       "      <th>std</th>\n",
       "      <td>158353.178095</td>\n",
       "      <td>5.669177e+05</td>\n",
       "      <td>2.300150</td>\n",
       "      <td>4.452269</td>\n",
       "      <td>74.382080</td>\n",
       "      <td>71.537312</td>\n",
       "      <td>1.996296</td>\n",
       "    </tr>\n",
       "    <tr>\n",
       "      <th>min</th>\n",
       "      <td>1.000000</td>\n",
       "      <td>-1.000000e+00</td>\n",
       "      <td>0.000000</td>\n",
       "      <td>0.000000</td>\n",
       "      <td>0.000000</td>\n",
       "      <td>0.000000</td>\n",
       "      <td>0.000000</td>\n",
       "    </tr>\n",
       "    <tr>\n",
       "      <th>25%</th>\n",
       "      <td>137138.500000</td>\n",
       "      <td>8.573300e+04</td>\n",
       "      <td>0.000000</td>\n",
       "      <td>2.000000</td>\n",
       "      <td>0.000000</td>\n",
       "      <td>0.000000</td>\n",
       "      <td>0.000000</td>\n",
       "    </tr>\n",
       "    <tr>\n",
       "      <th>50%</th>\n",
       "      <td>274276.000000</td>\n",
       "      <td>2.942890e+05</td>\n",
       "      <td>5.000000</td>\n",
       "      <td>3.000000</td>\n",
       "      <td>2.000000</td>\n",
       "      <td>2.000000</td>\n",
       "      <td>4.000000</td>\n",
       "    </tr>\n",
       "    <tr>\n",
       "      <th>75%</th>\n",
       "      <td>411413.500000</td>\n",
       "      <td>6.659595e+05</td>\n",
       "      <td>5.000000</td>\n",
       "      <td>6.000000</td>\n",
       "      <td>8.000000</td>\n",
       "      <td>7.000000</td>\n",
       "      <td>5.000000</td>\n",
       "    </tr>\n",
       "    <tr>\n",
       "      <th>max</th>\n",
       "      <td>548551.000000</td>\n",
       "      <td>3.798351e+06</td>\n",
       "      <td>5.000000</td>\n",
       "      <td>116.000000</td>\n",
       "      <td>5545.000000</td>\n",
       "      <td>4995.000000</td>\n",
       "      <td>5.000000</td>\n",
       "    </tr>\n",
       "  </tbody>\n",
       "</table>\n",
       "</div>"
      ],
      "text/plain": [
       "                  Id     Salesrank   NbrOfSimilar  NbrOfCategories  \\\n",
       "count  548551.000000  5.485510e+05  548551.000000    548551.000000   \n",
       "mean   274276.000000  4.840907e+05       3.260818         4.575143   \n",
       "std    158353.178095  5.669177e+05       2.300150         4.452269   \n",
       "min         1.000000 -1.000000e+00       0.000000         0.000000   \n",
       "25%    137138.500000  8.573300e+04       0.000000         2.000000   \n",
       "50%    274276.000000  2.942890e+05       5.000000         3.000000   \n",
       "75%    411413.500000  6.659595e+05       5.000000         6.000000   \n",
       "max    548551.000000  3.798351e+06       5.000000       116.000000   \n",
       "\n",
       "        TotalReviews     Downloaded      AvgRating  \n",
       "count  548551.000000  548551.000000  542684.000000  \n",
       "mean       14.186448      13.842367       3.209534  \n",
       "std        74.382080      71.537312       1.996296  \n",
       "min         0.000000       0.000000       0.000000  \n",
       "25%         0.000000       0.000000       0.000000  \n",
       "50%         2.000000       2.000000       4.000000  \n",
       "75%         8.000000       7.000000       5.000000  \n",
       "max      5545.000000    4995.000000       5.000000  "
      ]
     },
     "execution_count": 10,
     "metadata": {},
     "output_type": "execute_result"
    }
   ],
   "source": [
    "df_main.describe()"
   ]
  },
  {
   "cell_type": "code",
   "execution_count": 4,
   "metadata": {},
   "outputs": [
    {
     "data": {
      "text/plain": [
       "array(['Book', 'Music', 'DVD', 'Video', nan, 'Toy', 'Video Games',\n",
       "       'Software', 'Baby Product', 'CE', 'Sports'], dtype=object)"
      ]
     },
     "execution_count": 4,
     "metadata": {},
     "output_type": "execute_result"
    }
   ],
   "source": [
    "df_main.Group.unique()"
   ]
  },
  {
   "cell_type": "code",
   "execution_count": 5,
   "metadata": {},
   "outputs": [
    {
     "data": {
      "text/plain": [
       "(542664, 10)"
      ]
     },
     "execution_count": 5,
     "metadata": {},
     "output_type": "execute_result"
    }
   ],
   "source": [
    "data = df_main[df_main.Group.isin([\"Book\",\"Music\",\"DVD\",\"Video\"])]\n",
    "data.shape"
   ]
  },
  {
   "cell_type": "code",
   "execution_count": 6,
   "metadata": {},
   "outputs": [],
   "source": [
    "data.to_csv(\"Dataset/nodes.csv\",index=False)"
   ]
  },
  {
   "cell_type": "code",
   "execution_count": 7,
   "metadata": {},
   "outputs": [
    {
     "data": {
      "text/html": [
       "<div>\n",
       "<style scoped>\n",
       "    .dataframe tbody tr th:only-of-type {\n",
       "        vertical-align: middle;\n",
       "    }\n",
       "\n",
       "    .dataframe tbody tr th {\n",
       "        vertical-align: top;\n",
       "    }\n",
       "\n",
       "    .dataframe thead th {\n",
       "        text-align: right;\n",
       "    }\n",
       "</style>\n",
       "<table border=\"1\" class=\"dataframe\">\n",
       "  <thead>\n",
       "    <tr style=\"text-align: right;\">\n",
       "      <th></th>\n",
       "      <th>Id</th>\n",
       "      <th>ASIN</th>\n",
       "      <th>Similar</th>\n",
       "    </tr>\n",
       "  </thead>\n",
       "  <tbody>\n",
       "    <tr>\n",
       "      <th>0</th>\n",
       "      <td>1</td>\n",
       "      <td>0827229534</td>\n",
       "      <td>0804215715</td>\n",
       "    </tr>\n",
       "    <tr>\n",
       "      <th>1</th>\n",
       "      <td>1</td>\n",
       "      <td>0827229534</td>\n",
       "      <td>156101074X</td>\n",
       "    </tr>\n",
       "    <tr>\n",
       "      <th>2</th>\n",
       "      <td>1</td>\n",
       "      <td>0827229534</td>\n",
       "      <td>0687023955</td>\n",
       "    </tr>\n",
       "    <tr>\n",
       "      <th>3</th>\n",
       "      <td>1</td>\n",
       "      <td>0827229534</td>\n",
       "      <td>0687074231</td>\n",
       "    </tr>\n",
       "    <tr>\n",
       "      <th>4</th>\n",
       "      <td>1</td>\n",
       "      <td>0827229534</td>\n",
       "      <td>082721619X</td>\n",
       "    </tr>\n",
       "  </tbody>\n",
       "</table>\n",
       "</div>"
      ],
      "text/plain": [
       "   Id        ASIN      Similar\n",
       "0   1  0827229534   0804215715\n",
       "1   1  0827229534   156101074X\n",
       "2   1  0827229534   0687023955\n",
       "3   1  0827229534   0687074231\n",
       "4   1  0827229534   082721619X"
      ]
     },
     "execution_count": 7,
     "metadata": {},
     "output_type": "execute_result"
    }
   ],
   "source": [
    "df_sim.head()"
   ]
  },
  {
   "cell_type": "code",
   "execution_count": 8,
   "metadata": {},
   "outputs": [
    {
     "data": {
      "text/plain": [
       "(1958183, 3)"
      ]
     },
     "execution_count": 8,
     "metadata": {},
     "output_type": "execute_result"
    }
   ],
   "source": [
    "df_sim.shape"
   ]
  },
  {
   "cell_type": "code",
   "execution_count": 9,
   "metadata": {},
   "outputs": [
    {
     "data": {
      "text/html": [
       "<div>\n",
       "<style scoped>\n",
       "    .dataframe tbody tr th:only-of-type {\n",
       "        vertical-align: middle;\n",
       "    }\n",
       "\n",
       "    .dataframe tbody tr th {\n",
       "        vertical-align: top;\n",
       "    }\n",
       "\n",
       "    .dataframe thead th {\n",
       "        text-align: right;\n",
       "    }\n",
       "</style>\n",
       "<table border=\"1\" class=\"dataframe\">\n",
       "  <thead>\n",
       "    <tr style=\"text-align: right;\">\n",
       "      <th></th>\n",
       "      <th>Id</th>\n",
       "      <th>ASIN</th>\n",
       "      <th>Id_2</th>\n",
       "      <th>Title</th>\n",
       "      <th>Group</th>\n",
       "      <th>Salesrank</th>\n",
       "      <th>NbrOfSimilar</th>\n",
       "      <th>NbrOfCategories</th>\n",
       "      <th>TotalReviews</th>\n",
       "      <th>Downloaded</th>\n",
       "      <th>AvgRating</th>\n",
       "    </tr>\n",
       "    <tr>\n",
       "      <th>Similar</th>\n",
       "      <th></th>\n",
       "      <th></th>\n",
       "      <th></th>\n",
       "      <th></th>\n",
       "      <th></th>\n",
       "      <th></th>\n",
       "      <th></th>\n",
       "      <th></th>\n",
       "      <th></th>\n",
       "      <th></th>\n",
       "      <th></th>\n",
       "    </tr>\n",
       "  </thead>\n",
       "  <tbody>\n",
       "    <tr>\n",
       "      <th>0001515195</th>\n",
       "      <td>185002</td>\n",
       "      <td>0005310075</td>\n",
       "      <td>96102</td>\n",
       "      <td>Go to the Ant</td>\n",
       "      <td>Book</td>\n",
       "      <td>770150</td>\n",
       "      <td>4</td>\n",
       "      <td>0</td>\n",
       "      <td>0</td>\n",
       "      <td>0</td>\n",
       "      <td>0.0</td>\n",
       "    </tr>\n",
       "    <tr>\n",
       "      <th>0002154129</th>\n",
       "      <td>275265</td>\n",
       "      <td>0002154463</td>\n",
       "      <td>299097</td>\n",
       "      <td>France the Beautiful Cookbook</td>\n",
       "      <td>Book</td>\n",
       "      <td>76171</td>\n",
       "      <td>5</td>\n",
       "      <td>4</td>\n",
       "      <td>4</td>\n",
       "      <td>4</td>\n",
       "      <td>5.0</td>\n",
       "    </tr>\n",
       "    <tr>\n",
       "      <th>0002154129</th>\n",
       "      <td>309702</td>\n",
       "      <td>0002551543</td>\n",
       "      <td>299097</td>\n",
       "      <td>France the Beautiful Cookbook</td>\n",
       "      <td>Book</td>\n",
       "      <td>76171</td>\n",
       "      <td>5</td>\n",
       "      <td>4</td>\n",
       "      <td>4</td>\n",
       "      <td>4</td>\n",
       "      <td>5.0</td>\n",
       "    </tr>\n",
       "    <tr>\n",
       "      <th>0002154463</th>\n",
       "      <td>178882</td>\n",
       "      <td>0002550326</td>\n",
       "      <td>275265</td>\n",
       "      <td>Italy : The Beautiful Cookbook (Beautiful Cook...</td>\n",
       "      <td>Book</td>\n",
       "      <td>34654</td>\n",
       "      <td>5</td>\n",
       "      <td>2</td>\n",
       "      <td>3</td>\n",
       "      <td>3</td>\n",
       "      <td>4.0</td>\n",
       "    </tr>\n",
       "    <tr>\n",
       "      <th>0002154463</th>\n",
       "      <td>299097</td>\n",
       "      <td>0002154129</td>\n",
       "      <td>275265</td>\n",
       "      <td>Italy : The Beautiful Cookbook (Beautiful Cook...</td>\n",
       "      <td>Book</td>\n",
       "      <td>34654</td>\n",
       "      <td>5</td>\n",
       "      <td>2</td>\n",
       "      <td>3</td>\n",
       "      <td>3</td>\n",
       "      <td>4.0</td>\n",
       "    </tr>\n",
       "  </tbody>\n",
       "</table>\n",
       "</div>"
      ],
      "text/plain": [
       "                Id        ASIN    Id_2  \\\n",
       "Similar                                  \n",
       "0001515195  185002  0005310075   96102   \n",
       "0002154129  275265  0002154463  299097   \n",
       "0002154129  309702  0002551543  299097   \n",
       "0002154463  178882  0002550326  275265   \n",
       "0002154463  299097  0002154129  275265   \n",
       "\n",
       "                                                        Title Group  \\\n",
       "Similar                                                               \n",
       "0001515195                                      Go to the Ant  Book   \n",
       "0002154129                      France the Beautiful Cookbook  Book   \n",
       "0002154129                      France the Beautiful Cookbook  Book   \n",
       "0002154463  Italy : The Beautiful Cookbook (Beautiful Cook...  Book   \n",
       "0002154463  Italy : The Beautiful Cookbook (Beautiful Cook...  Book   \n",
       "\n",
       "            Salesrank  NbrOfSimilar  NbrOfCategories  TotalReviews  \\\n",
       "Similar                                                              \n",
       "0001515195     770150             4                0             0   \n",
       "0002154129      76171             5                4             4   \n",
       "0002154129      76171             5                4             4   \n",
       "0002154463      34654             5                2             3   \n",
       "0002154463      34654             5                2             3   \n",
       "\n",
       "            Downloaded  AvgRating  \n",
       "Similar                            \n",
       "0001515195           0        0.0  \n",
       "0002154129           4        5.0  \n",
       "0002154129           4        5.0  \n",
       "0002154463           3        4.0  \n",
       "0002154463           3        4.0  "
      ]
     },
     "execution_count": 9,
     "metadata": {},
     "output_type": "execute_result"
    }
   ],
   "source": [
    "df1 = df_sim.set_index('Similar')\n",
    "df2 = data.set_index('ASIN')\n",
    "df3 = df1.join(df2,rsuffix='_2',how='inner') # Id_2 only from data\n",
    "df3 = df3[df3.Id.isin(data.Id.values)] # Id only from data\n",
    "df3.head()"
   ]
  },
  {
   "cell_type": "code",
   "execution_count": 10,
   "metadata": {},
   "outputs": [
    {
     "data": {
      "text/plain": [
       "(275230, 2)"
      ]
     },
     "execution_count": 10,
     "metadata": {},
     "output_type": "execute_result"
    }
   ],
   "source": [
    "alinks = df3[['Id','Id_2']].reset_index(drop=True)\n",
    "#links2 = df3[['Id_2','Id']].reset_index(drop=True)\n",
    "#links = links1.append(links2)\n",
    "alinks.drop_duplicates(inplace=True)\n",
    "alinks.columns = [\"source\",\"target\"]\n",
    "alinks.shape"
   ]
  },
  {
   "cell_type": "code",
   "execution_count": 11,
   "metadata": {},
   "outputs": [
    {
     "data": {
      "text/html": [
       "<div>\n",
       "<style scoped>\n",
       "    .dataframe tbody tr th:only-of-type {\n",
       "        vertical-align: middle;\n",
       "    }\n",
       "\n",
       "    .dataframe tbody tr th {\n",
       "        vertical-align: top;\n",
       "    }\n",
       "\n",
       "    .dataframe thead th {\n",
       "        text-align: right;\n",
       "    }\n",
       "</style>\n",
       "<table border=\"1\" class=\"dataframe\">\n",
       "  <thead>\n",
       "    <tr style=\"text-align: right;\">\n",
       "      <th></th>\n",
       "      <th>source</th>\n",
       "      <th>target</th>\n",
       "    </tr>\n",
       "  </thead>\n",
       "  <tbody>\n",
       "    <tr>\n",
       "      <th>0</th>\n",
       "      <td>185002</td>\n",
       "      <td>96102</td>\n",
       "    </tr>\n",
       "    <tr>\n",
       "      <th>1</th>\n",
       "      <td>275265</td>\n",
       "      <td>299097</td>\n",
       "    </tr>\n",
       "    <tr>\n",
       "      <th>2</th>\n",
       "      <td>309702</td>\n",
       "      <td>299097</td>\n",
       "    </tr>\n",
       "    <tr>\n",
       "      <th>3</th>\n",
       "      <td>178882</td>\n",
       "      <td>275265</td>\n",
       "    </tr>\n",
       "    <tr>\n",
       "      <th>4</th>\n",
       "      <td>299097</td>\n",
       "      <td>275265</td>\n",
       "    </tr>\n",
       "  </tbody>\n",
       "</table>\n",
       "</div>"
      ],
      "text/plain": [
       "   source  target\n",
       "0  185002   96102\n",
       "1  275265  299097\n",
       "2  309702  299097\n",
       "3  178882  275265\n",
       "4  299097  275265"
      ]
     },
     "execution_count": 11,
     "metadata": {},
     "output_type": "execute_result"
    }
   ],
   "source": [
    "alinks.head()"
   ]
  },
  {
   "cell_type": "code",
   "execution_count": 12,
   "metadata": {},
   "outputs": [],
   "source": [
    "alinks.to_csv('Dataset/links.csv',index=False)"
   ]
  },
  {
   "cell_type": "code",
   "execution_count": 14,
   "metadata": {},
   "outputs": [
    {
     "data": {
      "text/html": [
       "<div>\n",
       "<style scoped>\n",
       "    .dataframe tbody tr th:only-of-type {\n",
       "        vertical-align: middle;\n",
       "    }\n",
       "\n",
       "    .dataframe tbody tr th {\n",
       "        vertical-align: top;\n",
       "    }\n",
       "\n",
       "    .dataframe thead th {\n",
       "        text-align: right;\n",
       "    }\n",
       "</style>\n",
       "<table border=\"1\" class=\"dataframe\">\n",
       "  <thead>\n",
       "    <tr style=\"text-align: right;\">\n",
       "      <th></th>\n",
       "      <th>Id</th>\n",
       "      <th>ASIN</th>\n",
       "      <th>L1</th>\n",
       "      <th>L2</th>\n",
       "      <th>L3</th>\n",
       "      <th>L4</th>\n",
       "    </tr>\n",
       "  </thead>\n",
       "  <tbody>\n",
       "    <tr>\n",
       "      <th>0</th>\n",
       "      <td>1</td>\n",
       "      <td>0827229534</td>\n",
       "      <td>Books[283155]</td>\n",
       "      <td>Subjects[1000]</td>\n",
       "      <td>Religion &amp; Spirituality[22]</td>\n",
       "      <td>Christianity[12290]</td>\n",
       "    </tr>\n",
       "    <tr>\n",
       "      <th>1</th>\n",
       "      <td>1</td>\n",
       "      <td>0827229534</td>\n",
       "      <td>Books[283155]</td>\n",
       "      <td>Subjects[1000]</td>\n",
       "      <td>Religion &amp; Spirituality[22]</td>\n",
       "      <td>Christianity[12290]</td>\n",
       "    </tr>\n",
       "    <tr>\n",
       "      <th>2</th>\n",
       "      <td>2</td>\n",
       "      <td>0738700797</td>\n",
       "      <td>Books[283155]</td>\n",
       "      <td>Subjects[1000]</td>\n",
       "      <td>Religion &amp; Spirituality[22]</td>\n",
       "      <td>Earth-Based Religions[12472]</td>\n",
       "    </tr>\n",
       "    <tr>\n",
       "      <th>3</th>\n",
       "      <td>2</td>\n",
       "      <td>0738700797</td>\n",
       "      <td>Books[283155]</td>\n",
       "      <td>Subjects[1000]</td>\n",
       "      <td>Religion &amp; Spirituality[22]</td>\n",
       "      <td>Earth-Based Religions[12472]</td>\n",
       "    </tr>\n",
       "    <tr>\n",
       "      <th>4</th>\n",
       "      <td>3</td>\n",
       "      <td>0486287785</td>\n",
       "      <td>Books[283155]</td>\n",
       "      <td>Subjects[1000]</td>\n",
       "      <td>Home &amp; Garden[48]</td>\n",
       "      <td>Crafts &amp; Hobbies[5126]</td>\n",
       "    </tr>\n",
       "  </tbody>\n",
       "</table>\n",
       "</div>"
      ],
      "text/plain": [
       "   Id        ASIN             L1               L2  \\\n",
       "0   1  0827229534  Books[283155]   Subjects[1000]   \n",
       "1   1  0827229534  Books[283155]   Subjects[1000]   \n",
       "2   2  0738700797  Books[283155]   Subjects[1000]   \n",
       "3   2  0738700797  Books[283155]   Subjects[1000]   \n",
       "4   3  0486287785  Books[283155]   Subjects[1000]   \n",
       "\n",
       "                             L3                             L4  \n",
       "0   Religion & Spirituality[22]            Christianity[12290]  \n",
       "1   Religion & Spirituality[22]            Christianity[12290]  \n",
       "2   Religion & Spirituality[22]   Earth-Based Religions[12472]  \n",
       "3   Religion & Spirituality[22]   Earth-Based Religions[12472]  \n",
       "4             Home & Garden[48]         Crafts & Hobbies[5126]  "
      ]
     },
     "execution_count": 14,
     "metadata": {},
     "output_type": "execute_result"
    }
   ],
   "source": [
    "df_cat.head()"
   ]
  },
  {
   "cell_type": "code",
   "execution_count": 15,
   "metadata": {},
   "outputs": [
    {
     "data": {
      "text/plain": [
       "Id          0\n",
       "ASIN        0\n",
       "L1          0\n",
       "L2      28770\n",
       "L3      28788\n",
       "L4      36702\n",
       "dtype: int64"
      ]
     },
     "execution_count": 15,
     "metadata": {},
     "output_type": "execute_result"
    }
   ],
   "source": [
    "df_cat.isnull().sum()"
   ]
  },
  {
   "cell_type": "code",
   "execution_count": 16,
   "metadata": {},
   "outputs": [
    {
     "data": {
      "text/plain": [
       "Id      548551\n",
       "ASIN    548551\n",
       "L1          16\n",
       "L2          37\n",
       "L3         167\n",
       "L4        1205\n",
       "dtype: int64"
      ]
     },
     "execution_count": 16,
     "metadata": {},
     "output_type": "execute_result"
    }
   ],
   "source": [
    "df_cat.nunique()"
   ]
  },
  {
   "cell_type": "code",
   "execution_count": 17,
   "metadata": {},
   "outputs": [
    {
     "data": {
      "text/plain": [
       "array(['Books[283155]', '[172282]', 'Music[5174]', '[265523]', '[139452]',\n",
       "       'a', '[540744]', '[468642]', '[229534]', '[229220]', '[171280]',\n",
       "       '[700060]', '[1055398]', 'Sports & Outdoor[3375251]',\n",
       "       'Sportsrus.com[3489201]', '[1064952]'], dtype=object)"
      ]
     },
     "execution_count": 17,
     "metadata": {},
     "output_type": "execute_result"
    }
   ],
   "source": [
    "df_cat.L1.unique()\n"
   ]
  },
  {
   "cell_type": "code",
   "execution_count": 18,
   "metadata": {},
   "outputs": [
    {
     "data": {
      "text/plain": [
       "(Id          0\n",
       " ASIN        0\n",
       " L1          0\n",
       " L2      28770\n",
       " L3      28770\n",
       " L4      28770\n",
       " dtype: int64,\n",
       " (28770, 6))"
      ]
     },
     "execution_count": 18,
     "metadata": {},
     "output_type": "execute_result"
    }
   ],
   "source": [
    "df_cat[df_cat.L1=='a'].isnull().sum(), df_cat[df_cat.L1=='a'].shape"
   ]
  },
  {
   "cell_type": "code",
   "execution_count": 22,
   "metadata": {},
   "outputs": [
    {
     "data": {
      "text/plain": [
       "Id         0\n",
       "ASIN       0\n",
       "L1         0\n",
       "L2         0\n",
       "L3        18\n",
       "L4      7932\n",
       "dtype: int64"
      ]
     },
     "execution_count": 22,
     "metadata": {},
     "output_type": "execute_result"
    }
   ],
   "source": [
    "df_cat = df_cat[df_cat.L1!='a']\n",
    "df_cat.isnull().sum()"
   ]
  },
  {
   "cell_type": "code",
   "execution_count": null,
   "metadata": {},
   "outputs": [],
   "source": []
  }
 ],
 "metadata": {
  "kernelspec": {
   "display_name": "hackrx",
   "language": "python",
   "name": "python3"
  },
  "language_info": {
   "codemirror_mode": {
    "name": "ipython",
    "version": 3
   },
   "file_extension": ".py",
   "mimetype": "text/x-python",
   "name": "python",
   "nbconvert_exporter": "python",
   "pygments_lexer": "ipython3",
   "version": "3.8.15"
  },
  "orig_nbformat": 4
 },
 "nbformat": 4,
 "nbformat_minor": 2
}
